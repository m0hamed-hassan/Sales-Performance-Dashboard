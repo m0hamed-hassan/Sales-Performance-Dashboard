{
 "cells": [
  {
   "cell_type": "code",
   "execution_count": 1,
   "id": "f5d98452-cdcc-4dc2-afb0-06d79539bd04",
   "metadata": {},
   "outputs": [],
   "source": [
    "import pandas as pd\n",
    "import numpy  as np"
   ]
  },
  {
   "cell_type": "code",
   "execution_count": null,
   "id": "a620282f-b469-4dac-86ee-21c46fac6e84",
   "metadata": {},
   "outputs": [],
   "source": []
  },
  {
   "cell_type": "code",
   "execution_count": 18,
   "id": "ad45b002-50c1-43de-b1e8-ac4f0519dbb4",
   "metadata": {},
   "outputs": [
    {
     "name": "stdout",
     "output_type": "stream",
     "text": [
      "<class 'pandas.core.frame.DataFrame'>\n",
      "RangeIndex: 1000 entries, 0 to 999\n",
      "Data columns (total 11 columns):\n",
      " #   Column            Non-Null Count  Dtype  \n",
      "---  ------            --------------  -----  \n",
      " 0   Transaction_ID    1000 non-null   int64  \n",
      " 1   Date              1000 non-null   object \n",
      " 2   Customer ID       1000 non-null   object \n",
      " 3   Gender            1000 non-null   object \n",
      " 4   Age               1000 non-null   int64  \n",
      " 5   Product Category  1000 non-null   object \n",
      " 6   Quantity          1000 non-null   int64  \n",
      " 7   Price             1000 non-null   int64  \n",
      " 8   Unnamed: 8        0 non-null      float64\n",
      " 9   Unnamed: 9        0 non-null      float64\n",
      " 10  Unnamed: 10       1 non-null      object \n",
      "dtypes: float64(2), int64(4), object(5)\n",
      "memory usage: 86.1+ KB\n",
      "None\n",
      "   Transaction_ID        Date Customer ID  Gender  Age Product Category  \\\n",
      "0               1  11/24/2023     CUST001    Male   34           Beauty   \n",
      "1               2   2/27/2023     CUST002  Female   26         Clothing   \n",
      "2               3   1/13/2023     CUST003    Male   50      Electronics   \n",
      "3               4   5/21/2023     CUST004    Male   37         Clothing   \n",
      "4               5    5/6/2023     CUST005    Male   30           Beauty   \n",
      "\n",
      "   Quantity  Price  Unnamed: 8  Unnamed: 9 Unnamed: 10  \n",
      "0         3     50         NaN         NaN         NaN  \n",
      "1         2    500         NaN         NaN         NaN  \n",
      "2         1     30         NaN         NaN         NaN  \n",
      "3         1    500         NaN         NaN         NaN  \n",
      "4         2     50         NaN         NaN         NaN  \n"
     ]
    }
   ],
   "source": [
    "import pandas as pd\n",
    "\n",
    "# ======================\n",
    "# 1. Extract (Load data)\n",
    "# ======================\n",
    "df = pd.read_csv(r\"C:\\Users\\moham\\OneDrive\\سطح المكتب\\archive (1)\\retail_sales_dataset.csv\")\n",
    "print(df.info())\n",
    "print(df.head())\n",
    "\n",
    "# ======================\n",
    "# 2. Transform (Clean & Prepare data)\n",
    "# ======================\n",
    "\n",
    "# (A) Drop rows with missing Transaction_ID or Date\n",
    "df = df.dropna(subset=[\"Transaction_ID\", \"Date\"])\n",
    "\n",
    "# (B) Handle missing values in other columns\n",
    "if \"Customer_ID\" in df.columns:\n",
    "    df[\"Customer_ID\"] = df[\"Customer_ID\"].fillna(\"Unknown\")\n",
    "\n",
    "if \"Product_Category\" in df.columns:\n",
    "    df[\"Product_Category\"] = df[\"Product_Category\"].fillna(\"Other\")\n",
    "\n",
    "# (C) Convert Date column to proper datetime format\n",
    "df[\"Date\"] = pd.to_datetime(df[\"Date\"], errors=\"coerce\")\n",
    "\n",
    "# (D) Drop rows where Date could not be parsed\n",
    "df = df.dropna(subset=[\"Date\"])\n",
    "\n",
    "# (E) Remove duplicate rows\n",
    "df = df.drop_duplicates()\n",
    "\n",
    "# (F) Format text values (e.g., categories)\n",
    "if \"Product_Category\" in df.columns:\n",
    "    df[\"Product_Category\"] = df[\"Product_Category\"].str.title()\n",
    "\n",
    "# (G) Create new column Revenue if not already exists\n",
    "if \"Total_Amount\" not in df.columns:\n",
    "    df[\"Total_Amount\"] = df[\"Quantity\"] * df[\"Price\"]\n",
    "\n",
    "# Delete all columns that start with \"Unnamed\"\n",
    "df = df.loc[:, ~df.columns.str.contains('^Unnamed')]\n",
    "# ======================\n",
    "# 3. Load (Save clean data)\n",
    "# ======================\n",
    "df.to_csv(r\"D:\\data analsis\\retail_sales_clean.csv\", index=False)\n",
    "\n"
   ]
  },
  {
   "cell_type": "code",
   "execution_count": null,
   "id": "cae99857-96d4-4d69-8c3f-45cbdf84cd16",
   "metadata": {},
   "outputs": [],
   "source": []
  },
  {
   "cell_type": "code",
   "execution_count": null,
   "id": "3f433c91-5be9-45d2-b306-5449fa26098b",
   "metadata": {},
   "outputs": [],
   "source": []
  },
  {
   "cell_type": "code",
   "execution_count": null,
   "id": "f8465159-1e13-478b-91c8-f06a8bdd46e6",
   "metadata": {},
   "outputs": [],
   "source": []
  }
 ],
 "metadata": {
  "kernelspec": {
   "display_name": "Python [conda env:base] *",
   "language": "python",
   "name": "conda-base-py"
  },
  "language_info": {
   "codemirror_mode": {
    "name": "ipython",
    "version": 3
   },
   "file_extension": ".py",
   "mimetype": "text/x-python",
   "name": "python",
   "nbconvert_exporter": "python",
   "pygments_lexer": "ipython3",
   "version": "3.12.7"
  }
 },
 "nbformat": 4,
 "nbformat_minor": 5
}
